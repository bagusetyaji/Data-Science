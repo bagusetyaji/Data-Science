{
  "nbformat": 4,
  "nbformat_minor": 0,
  "metadata": {
    "colab": {
      "provenance": [],
      "authorship_tag": "ABX9TyPJkp8J2gTsOXQRa6gZpjgf",
      "include_colab_link": true
    },
    "kernelspec": {
      "name": "python3",
      "display_name": "Python 3"
    },
    "language_info": {
      "name": "python"
    }
  },
  "cells": [
    {
      "cell_type": "markdown",
      "metadata": {
        "id": "view-in-github",
        "colab_type": "text"
      },
      "source": [
        "<a href=\"https://colab.research.google.com/github/bagusetyaji/Data-Science/blob/main/Model_Evaluation_and_Hyperparameter_Tuning_(Pipeline).ipynb\" target=\"_parent\"><img src=\"https://colab.research.google.com/assets/colab-badge.svg\" alt=\"Open In Colab\"/></a>"
      ]
    },
    {
      "cell_type": "markdown",
      "source": [
        "Reading dataset"
      ],
      "metadata": {
        "id": "kCDRk8qckoJD"
      }
    },
    {
      "cell_type": "code",
      "source": [
        "import pandas as pd\n",
        "df = pd.read_csv('https://archive.ics.uci.edu/ml/machine-learning-databases/breast-cancer-wisconsin/wdbc.data',\n",
        "header=None)"
      ],
      "metadata": {
        "id": "wuTT1SvdkuxM"
      },
      "execution_count": null,
      "outputs": []
    },
    {
      "cell_type": "code",
      "source": [
        "from sklearn.preprocessing import LabelEncoder\n",
        "\n",
        "X = df.loc[:, 2:].values\n",
        "y = df.loc[:, 1].values\n",
        "\n",
        "le = LabelEncoder()\n",
        "y = le.fit_transform(y)"
      ],
      "metadata": {
        "id": "JpnkjllelGDF"
      },
      "execution_count": null,
      "outputs": []
    },
    {
      "cell_type": "code",
      "source": [
        "le.transform(['B', 'M'])"
      ],
      "metadata": {
        "id": "KxsuxtwTmPrO",
        "colab": {
          "base_uri": "https://localhost:8080/"
        },
        "outputId": "dc420512-9c04-43a2-d812-6fc476a10e61"
      },
      "execution_count": null,
      "outputs": [
        {
          "output_type": "execute_result",
          "data": {
            "text/plain": [
              "array([0, 1])"
            ]
          },
          "metadata": {},
          "execution_count": 3
        }
      ]
    },
    {
      "cell_type": "code",
      "source": [
        "from sklearn.model_selection import train_test_split\n",
        "\n",
        "X_train, X_test, y_train, y_test = train_test_split(X, y, test_size=0.20, random_state=1)"
      ],
      "metadata": {
        "id": "RYvHAyPomcTw"
      },
      "execution_count": null,
      "outputs": []
    },
    {
      "cell_type": "markdown",
      "source": [
        "Combining transformers and estimators in a pipeline"
      ],
      "metadata": {
        "id": "53eWOWyBnG5K"
      }
    },
    {
      "cell_type": "code",
      "source": [
        "# Pipeline\n",
        "# StandardScaler\n",
        "# PCA\n",
        "# Logistic Regression\n",
        "\n",
        "from sklearn.preprocessing import StandardScaler\n",
        "from sklearn.decomposition import PCA\n",
        "from sklearn.linear_model import LogisticRegression\n",
        "from sklearn.pipeline import Pipeline\n",
        "\n",
        "pipe_lr = Pipeline([('scl', StandardScaler()),\n",
        "                    ('pca', PCA(n_components=2)),\n",
        "                    ('clf', LogisticRegression(random_state=1))])\n",
        "pipe_lr.fit(X_train, y_train)\n",
        "\n",
        "print('Test Accuracy: %.3f' % pipe_lr.score(X_test, y_test))"
      ],
      "metadata": {
        "id": "tXuuMnbTm1QI",
        "colab": {
          "base_uri": "https://localhost:8080/"
        },
        "outputId": "34915f88-ac50-4fb6-c044-d9951939a2ee"
      },
      "execution_count": null,
      "outputs": [
        {
          "output_type": "stream",
          "name": "stdout",
          "text": [
            "Test Accuracy: 0.947\n"
          ]
        }
      ]
    },
    {
      "cell_type": "markdown",
      "source": [
        "Stratified K-Fold Cross Validation"
      ],
      "metadata": {
        "id": "xSlTb1KQvgxI"
      }
    },
    {
      "cell_type": "code",
      "source": [
        "import numpy as np\n",
        "from sklearn.model_selection import StratifiedKFold\n",
        "\n",
        "kfold = StratifiedKFold(n_splits=10, shuffle=True, random_state=1)\n",
        "scores = []\n",
        "for k, (train, test) in enumerate(kfold.split(X_train, y_train)):\n",
        "    pipe_lr.fit(X_train[train], y_train[train])\n",
        "    score = pipe_lr.score(X_train[test], y_train[test])\n",
        "    scores.append(score)\n",
        "    print('Fold: %s, Class dist.: %s, Acc: %.3f' % (k+1, np.bincount(y_train[train]), score))\n",
        "\n",
        "print('CV accuracy: %.3f +/- %.3f' % (np.mean(scores), np.std(scores)))"
      ],
      "metadata": {
        "id": "qn9BQsNQzTme",
        "colab": {
          "base_uri": "https://localhost:8080/"
        },
        "outputId": "58f9631b-32dd-4fc8-a575-5c9bd1896eb2"
      },
      "execution_count": null,
      "outputs": [
        {
          "output_type": "stream",
          "name": "stdout",
          "text": [
            "Fold: 1, Class dist.: [256 153], Acc: 0.891\n",
            "Fold: 2, Class dist.: [256 153], Acc: 0.957\n",
            "Fold: 3, Class dist.: [256 153], Acc: 0.978\n",
            "Fold: 4, Class dist.: [256 153], Acc: 0.913\n",
            "Fold: 5, Class dist.: [256 153], Acc: 0.957\n",
            "Fold: 6, Class dist.: [257 153], Acc: 1.000\n",
            "Fold: 7, Class dist.: [257 153], Acc: 0.933\n",
            "Fold: 8, Class dist.: [257 153], Acc: 0.978\n",
            "Fold: 9, Class dist.: [257 153], Acc: 0.889\n",
            "Fold: 10, Class dist.: [257 153], Acc: 0.933\n",
            "CV accuracy: 0.943 +/- 0.036\n"
          ]
        }
      ]
    },
    {
      "cell_type": "code",
      "source": [
        "from sklearn.model_selection import cross_val_score\n",
        "\n",
        "scores = cross_val_score(estimator=pipe_lr,\n",
        "                         X=X_train,\n",
        "                         y=y_train,\n",
        "                         cv=10,\n",
        "                         n_jobs=1)\n",
        "print('CV accuracy scores: %s' % scores)\n",
        "print('CV accuracy: %.3f +/- %.3f' % (np.mean(scores), np.std(scores)))"
      ],
      "metadata": {
        "id": "x0rxZITOxZUq",
        "colab": {
          "base_uri": "https://localhost:8080/"
        },
        "outputId": "7df5dbeb-f460-423a-932e-7df52174fd54"
      },
      "execution_count": null,
      "outputs": [
        {
          "output_type": "stream",
          "name": "stdout",
          "text": [
            "CV accuracy scores: [0.91304348 0.97826087 0.97826087 0.91304348 0.93478261 0.97777778\n",
            " 0.93333333 0.95555556 0.97777778 0.95555556]\n",
            "CV accuracy: 0.952 +/- 0.025\n"
          ]
        }
      ]
    },
    {
      "cell_type": "markdown",
      "source": [
        "Diagnosing bias and variance problems with learning curves"
      ],
      "metadata": {
        "id": "L_PiO_SmJnjb"
      }
    },
    {
      "cell_type": "code",
      "source": [
        "import matplotlib.pyplot as plt\n",
        "from sklearn.model_selection import learning_curve\n",
        "\n",
        "pipe_lr = Pipeline([\n",
        "          ('scl', StandardScaler()),\n",
        "          ('clf', LogisticRegression(\n",
        "                      penalty='l2', random_state=0))])\n",
        "\n",
        "train_sizes, train_scores, test_scores = learning_curve(\n",
        "                                              estimator=pipe_lr,\n",
        "                                              X=X_train,\n",
        "                                              y=y_train,\n",
        "                                              train_sizes=np.linspace(0.1, 1.0, 10),\n",
        "                                              cv=10,\n",
        "                                              n_jobs=1)\n",
        "train_mean = np.mean(train_scores, axis=1)\n",
        "train_std = np.std(train_scores, axis=1)\n",
        "test_mean = np.mean(test_scores, axis=1)\n",
        "test_std = np.std(test_scores, axis=1)\n",
        "\n",
        "plt.plot(train_sizes, train_mean,\n",
        "         color='blue', marker='o',\n",
        "         markersize=5,\n",
        "         label='training accuracy')\n",
        "\n",
        "plt.fill_between(train_sizes,\n",
        "                 train_mean + train_std,\n",
        "                 train_mean - train_std,\n",
        "                 alpha=0.15, color='blue')\n",
        "\n",
        "plt.plot(train_sizes, test_mean,\n",
        "         color='green', linestyle='--',\n",
        "         marker='s', markersize=5,\n",
        "         label='validation accuracy')\n",
        "\n",
        "plt.fill_between(train_sizes,\n",
        "                 test_mean + test_std,\n",
        "                 test_mean - test_std,\n",
        "                 alpha=0.15, color='green')\n",
        "\n",
        "plt.grid()\n",
        "plt.xlabel('Number of training samples')\n",
        "plt.ylabel('Accuracy')\n",
        "plt.legend(loc='lower right')\n",
        "plt.ylim([0.8, 1])\n",
        "plt.xlim([0, 450])"
      ],
      "metadata": {
        "id": "axNgg5vCHg6w",
        "colab": {
          "base_uri": "https://localhost:8080/",
          "height": 301
        },
        "outputId": "30ec179d-98b6-4f6f-d95a-a32e5e08c2e6"
      },
      "execution_count": null,
      "outputs": [
        {
          "output_type": "execute_result",
          "data": {
            "text/plain": [
              "(0.0, 450.0)"
            ]
          },
          "metadata": {},
          "execution_count": 8
        },
        {
          "output_type": "display_data",
          "data": {
            "text/plain": [
              "<Figure size 432x288 with 1 Axes>"
            ],
            "image/png": "[encoded data removed]"
          },
          "metadata": {
            "needs_background": "light"
          }
        }
      ]
    },
    {
      "cell_type": "markdown",
      "source": [
        "Addressing overfitting and underfitting with validation curves"
      ],
      "metadata": {
        "id": "a1K5H76oSgxE"
      }
    },
    {
      "cell_type": "code",
      "source": [
        "from sklearn.model_selection import validation_curve\n",
        "\n",
        "param_range = [0.001, 0.01, 0.1, 1.0, 10.0, 100.0]\n",
        "\n",
        "train_scores, test_scores = validation_curve(\n",
        "                            estimator=pipe_lr,\n",
        "                            X=X_train,\n",
        "                            y=y_train,\n",
        "                            param_name='clf__C',\n",
        "                            param_range=param_range,\n",
        "                            cv=10)\n",
        "\n",
        "train_mean = np.mean(train_scores, axis=1)\n",
        "train_std = np.std(train_scores, axis=1)\n",
        "test_mean = np.mean(test_scores, axis=1)\n",
        "test_std = np.std(test_scores, axis=1)\n",
        "\n",
        "plt.plot(param_range, train_mean,\n",
        "         color='blue', marker='o',\n",
        "         markersize=5,\n",
        "         label='training accuracy')\n",
        "\n",
        "plt.fill_between(param_range, \n",
        "                 train_mean + train_std,\n",
        "                 train_mean - train_std, \n",
        "                 alpha=0.15, color='blue')\n",
        "\n",
        "plt.plot(param_range, test_mean,\n",
        "         color='green', linestyle='--',\n",
        "         marker='s', markersize=5,\n",
        "         label='validation accuracy')\n",
        "\n",
        "plt.fill_between(param_range, \n",
        "                 test_mean + test_std,\n",
        "                 test_mean - test_std, \n",
        "                 alpha=0.15, color='green')\n",
        "\n",
        "plt.grid()\n",
        "plt.xscale('log')\n",
        "plt.legend(loc='lower right')\n",
        "plt.xlabel('Parameter C')\n",
        "plt.ylabel('Accuracy')\n",
        "plt.ylim([0.8, 1.0])\n",
        "plt.show() "
      ],
      "metadata": {
        "id": "a0dpegRQR5Xy",
        "colab": {
          "base_uri": "https://localhost:8080/",
          "height": 1000
        },
        "outputId": "53346333-99a8-43ee-c923-2b05b265b009"
      },
      "execution_count": null,
      "outputs": [
        {
          "output_type": "stream",
          "name": "stderr",
          "text": [
            "/usr/local/lib/python3.8/dist-packages/sklearn/linear_model/_logistic.py:814: ConvergenceWarning: lbfgs failed to converge (status=1):\n",
            "STOP: TOTAL NO. of ITERATIONS REACHED LIMIT.\n",
            "\n",
            "Increase the number of iterations (max_iter) or scale the data as shown in:\n",
            "    https://scikit-learn.org/stable/modules/preprocessing.html\n",
            "Please also refer to the documentation for alternative solver options:\n",
            "    https://scikit-learn.org/stable/modules/linear_model.html#logistic-regression\n",
            "  n_iter_i = _check_optimize_result(\n",
            "/usr/local/lib/python3.8/dist-packages/sklearn/linear_model/_logistic.py:814: ConvergenceWarning: lbfgs failed to converge (status=1):\n",
            "STOP: TOTAL NO. of ITERATIONS REACHED LIMIT.\n",
            "\n",
            "Increase the number of iterations (max_iter) or scale the data as shown in:\n",
            "    https://scikit-learn.org/stable/modules/preprocessing.html\n",
            "Please also refer to the documentation for alternative solver options:\n",
            "    https://scikit-learn.org/stable/modules/linear_model.html#logistic-regression\n",
            "  n_iter_i = _check_optimize_result(\n",
            "/usr/local/lib/python3.8/dist-packages/sklearn/linear_model/_logistic.py:814: ConvergenceWarning: lbfgs failed to converge (status=1):\n",
            "STOP: TOTAL NO. of ITERATIONS REACHED LIMIT.\n",
            "\n",
            "Increase the number of iterations (max_iter) or scale the data as shown in:\n",
            "    https://scikit-learn.org/stable/modules/preprocessing.html\n",
            "Please also refer to the documentation for alternative solver options:\n",
            "    https://scikit-learn.org/stable/modules/linear_model.html#logistic-regression\n",
            "  n_iter_i = _check_optimize_result(\n",
            "/usr/local/lib/python3.8/dist-packages/sklearn/linear_model/_logistic.py:814: ConvergenceWarning: lbfgs failed to converge (status=1):\n",
            "STOP: TOTAL NO. of ITERATIONS REACHED LIMIT.\n",
            "\n",
            "Increase the number of iterations (max_iter) or scale the data as shown in:\n",
            "    https://scikit-learn.org/stable/modules/preprocessing.html\n",
            "Please also refer to the documentation for alternative solver options:\n",
            "    https://scikit-learn.org/stable/modules/linear_model.html#logistic-regression\n",
            "  n_iter_i = _check_optimize_result(\n",
            "/usr/local/lib/python3.8/dist-packages/sklearn/linear_model/_logistic.py:814: ConvergenceWarning: lbfgs failed to converge (status=1):\n",
            "STOP: TOTAL NO. of ITERATIONS REACHED LIMIT.\n",
            "\n",
            "Increase the number of iterations (max_iter) or scale the data as shown in:\n",
            "    https://scikit-learn.org/stable/modules/preprocessing.html\n",
            "Please also refer to the documentation for alternative solver options:\n",
            "    https://scikit-learn.org/stable/modules/linear_model.html#logistic-regression\n",
            "  n_iter_i = _check_optimize_result(\n",
            "/usr/local/lib/python3.8/dist-packages/sklearn/linear_model/_logistic.py:814: ConvergenceWarning: lbfgs failed to converge (status=1):\n",
            "STOP: TOTAL NO. of ITERATIONS REACHED LIMIT.\n",
            "\n",
            "Increase the number of iterations (max_iter) or scale the data as shown in:\n",
            "    https://scikit-learn.org/stable/modules/preprocessing.html\n",
            "Please also refer to the documentation for alternative solver options:\n",
            "    https://scikit-learn.org/stable/modules/linear_model.html#logistic-regression\n",
            "  n_iter_i = _check_optimize_result(\n",
            "/usr/local/lib/python3.8/dist-packages/sklearn/linear_model/_logistic.py:814: ConvergenceWarning: lbfgs failed to converge (status=1):\n",
            "STOP: TOTAL NO. of ITERATIONS REACHED LIMIT.\n",
            "\n",
            "Increase the number of iterations (max_iter) or scale the data as shown in:\n",
            "    https://scikit-learn.org/stable/modules/preprocessing.html\n",
            "Please also refer to the documentation for alternative solver options:\n",
            "    https://scikit-learn.org/stable/modules/linear_model.html#logistic-regression\n",
            "  n_iter_i = _check_optimize_result(\n",
            "/usr/local/lib/python3.8/dist-packages/sklearn/linear_model/_logistic.py:814: ConvergenceWarning: lbfgs failed to converge (status=1):\n",
            "STOP: TOTAL NO. of ITERATIONS REACHED LIMIT.\n",
            "\n",
            "Increase the number of iterations (max_iter) or scale the data as shown in:\n",
            "    https://scikit-learn.org/stable/modules/preprocessing.html\n",
            "Please also refer to the documentation for alternative solver options:\n",
            "    https://scikit-learn.org/stable/modules/linear_model.html#logistic-regression\n",
            "  n_iter_i = _check_optimize_result(\n",
            "/usr/local/lib/python3.8/dist-packages/sklearn/linear_model/_logistic.py:814: ConvergenceWarning: lbfgs failed to converge (status=1):\n",
            "STOP: TOTAL NO. of ITERATIONS REACHED LIMIT.\n",
            "\n",
            "Increase the number of iterations (max_iter) or scale the data as shown in:\n",
            "    https://scikit-learn.org/stable/modules/preprocessing.html\n",
            "Please also refer to the documentation for alternative solver options:\n",
            "    https://scikit-learn.org/stable/modules/linear_model.html#logistic-regression\n",
            "  n_iter_i = _check_optimize_result(\n",
            "/usr/local/lib/python3.8/dist-packages/sklearn/linear_model/_logistic.py:814: ConvergenceWarning: lbfgs failed to converge (status=1):\n",
            "STOP: TOTAL NO. of ITERATIONS REACHED LIMIT.\n",
            "\n",
            "Increase the number of iterations (max_iter) or scale the data as shown in:\n",
            "    https://scikit-learn.org/stable/modules/preprocessing.html\n",
            "Please also refer to the documentation for alternative solver options:\n",
            "    https://scikit-learn.org/stable/modules/linear_model.html#logistic-regression\n",
            "  n_iter_i = _check_optimize_result(\n"
          ]
        },
        {
          "output_type": "display_data",
          "data": {
            "text/plain": [
              "<Figure size 432x288 with 1 Axes>"
            ],
            "image/png": "[encoded data removed]"
          },
          "metadata": {
            "needs_background": "light"
          }
        }
      ]
    },
    {
      "cell_type": "markdown",
      "source": [
        "Tuning hyperparameter via grid search"
      ],
      "metadata": {
        "id": "yWolwJ4dNNbF"
      }
    },
    {
      "cell_type": "code",
      "source": [
        "from sklearn.model_selection import GridSearchCV\n",
        "from sklearn.svm import SVC\n",
        "\n",
        "pipe_svc = Pipeline([('scl', StandardScaler()),\n",
        "                     ('clf', SVC(random_state=1))])\n",
        "\n",
        "param_range = [0.0001, 0.001, 0.01, 0.1, 1.0, 10.0, 100.0, 1000.0]\n",
        "\n",
        "param_grid = [{'clf__C': param_range,\n",
        "               'clf__kernel': ['linear']},\n",
        "              {'clf__C': param_range,\n",
        "               'clf__gamma': param_range,\n",
        "               'clf__kernel': ['rbf']}]\n",
        "              \n",
        "gs = GridSearchCV(estimator=pipe_svc,\n",
        "                  param_grid=param_grid,\n",
        "                  scoring='accuracy',\n",
        "                  cv=10,\n",
        "                  n_jobs=-1)\n",
        "\n",
        "gs = gs.fit(X_train, y_train)\n",
        "\n",
        "print(gs.best_score_)\n",
        "print(gs.best_params_)"
      ],
      "metadata": {
        "id": "mx5KRnRpGopq",
        "colab": {
          "base_uri": "https://localhost:8080/"
        },
        "outputId": "9fae7609-8907-4bdf-e09f-fcf074b69b73"
      },
      "execution_count": null,
      "outputs": [
        {
          "output_type": "stream",
          "name": "stdout",
          "text": [
            "0.9781159420289856\n",
            "{'clf__C': 0.1, 'clf__kernel': 'linear'}\n"
          ]
        }
      ]
    },
    {
      "cell_type": "code",
      "source": [
        "clf = gs.best_estimator_\n",
        "clf.fit(X_train, y_train)\n",
        "print('Test accuracy: %.3f' % clf.score(X_test, y_test))"
      ],
      "metadata": {
        "id": "WsJCYoefsTkm",
        "colab": {
          "base_uri": "https://localhost:8080/"
        },
        "outputId": "eb4ad08a-bc84-4448-c73b-63d9d24b476f"
      },
      "execution_count": null,
      "outputs": [
        {
          "output_type": "stream",
          "name": "stdout",
          "text": [
            "Test accuracy: 0.965\n"
          ]
        }
      ]
    },
    {
      "cell_type": "markdown",
      "source": [
        "Algorithm selection with nested cross-validation"
      ],
      "metadata": {
        "id": "qKpQpAS1uMKA"
      }
    },
    {
      "cell_type": "code",
      "source": [
        "gs = GridSearchCV(estimator=pipe_svc,\n",
        "                  param_grid=param_grid,\n",
        "                  scoring='accuracy',\n",
        "                  cv=2,\n",
        "                  n_jobs=-1)\n",
        "\n",
        "scores = cross_val_score(gs, X_train, y_train, scoring='accuracy', cv=5)\n",
        "\n",
        "print('CV accuracy: %.3f +/- %.3f' % (\n",
        "            np.mean(scores), np.std(scores)))"
      ],
      "metadata": {
        "id": "7qRgz73ltDZ0",
        "colab": {
          "base_uri": "https://localhost:8080/"
        },
        "outputId": "542e818b-f1b4-48e6-ab60-c341d887fb9c"
      },
      "execution_count": null,
      "outputs": [
        {
          "output_type": "stream",
          "name": "stdout",
          "text": [
            "CV accuracy: 0.965 +/- 0.025\n"
          ]
        }
      ]
    },
    {
      "cell_type": "code",
      "source": [
        "from sklearn.tree import DecisionTreeClassifier\n",
        "\n",
        "gs = GridSearchCV(\n",
        "    estimator=DecisionTreeClassifier(random_state=0),\n",
        "    param_grid=[\n",
        "        {'max_depth' : [1, 2, 3, 4, 5, 6, 7, None]}],\n",
        "    scoring='accuracy',\n",
        "    cv=5)\n",
        "\n",
        "scores = cross_val_score(gs,\n",
        "                         X_train,\n",
        "                         y_train,\n",
        "                         scoring='accuracy',\n",
        "                         cv=2)\n",
        "\n",
        "print('CV accuracy : %.3f +/- %.3f' % (\n",
        "                      np.mean(scores), np.std(scores)))"
      ],
      "metadata": {
        "id": "oDYVkcP64m9S",
        "colab": {
          "base_uri": "https://localhost:8080/"
        },
        "outputId": "00d4087f-e650-4201-8b70-56fec30b3bb1"
      },
      "execution_count": null,
      "outputs": [
        {
          "output_type": "stream",
          "name": "stdout",
          "text": [
            "CV accuracy : 0.912 +/- 0.009\n"
          ]
        }
      ]
    },
    {
      "cell_type": "markdown",
      "source": [
        "Confusion Matrix"
      ],
      "metadata": {
        "id": "3xE4EZYdCnsy"
      }
    },
    {
      "cell_type": "code",
      "source": [
        "from sklearn.metrics import confusion_matrix\n",
        "\n",
        "pipe_svc.fit(X_train, y_train)\n",
        "y_pred = pipe_svc.predict(X_test)\n",
        "confmat = confusion_matrix(y_true=y_test, y_pred=y_pred)\n",
        "print(confmat)"
      ],
      "metadata": {
        "id": "ScSMTc6tBS1h",
        "colab": {
          "base_uri": "https://localhost:8080/"
        },
        "outputId": "636cfadd-4d95-4575-e672-d9ab9b99f3ad"
      },
      "execution_count": null,
      "outputs": [
        {
          "output_type": "stream",
          "name": "stdout",
          "text": [
            "[[71  1]\n",
            " [ 2 40]]\n"
          ]
        }
      ]
    },
    {
      "cell_type": "code",
      "source": [
        "fig, ax = plt.subplots(figsize=(2.5, 2.5))\n",
        "ax.matshow(confmat, cmap=plt.cm.Blues, alpha=0.3)\n",
        "\n",
        "for i in range(confmat.shape[0]):\n",
        "  for j in range(confmat.shape[1]):\n",
        "    ax.text(x=j, y=i,\n",
        "            s=confmat[i, j],\n",
        "            va='center', ha='center')\n",
        "\n",
        "plt.xlabel('predicted label')\n",
        "plt.ylabel('true label')\n",
        "plt.show()"
      ],
      "metadata": {
        "id": "2mMTTUSj7t2w",
        "colab": {
          "base_uri": "https://localhost:8080/",
          "height": 201
        },
        "outputId": "ce34cfce-de70-45b0-9aa9-ac664a4ed911"
      },
      "execution_count": null,
      "outputs": [
        {
          "output_type": "display_data",
          "data": {
            "text/plain": [
              "<Figure size 180x180 with 1 Axes>"
            ],
            "image/png": "[encoded data removed]"
          },
          "metadata": {
            "needs_background": "light"
          }
        }
      ]
    },
    {
      "cell_type": "markdown",
      "source": [
        "Optimizing the precision and recall of a classification model"
      ],
      "metadata": {
        "id": "lSdN8qbeGAI2"
      }
    },
    {
      "cell_type": "code",
      "source": [
        "from sklearn.metrics import precision_score\n",
        "from sklearn.metrics import recall_score, f1_score\n",
        "\n",
        "print('Precision: %.3f' % precision_score(\n",
        "              y_true=y_test, y_pred=y_pred))\n",
        "print('F1: %.3f' % f1_score(\n",
        "              y_true=y_test, y_pred=y_pred))"
      ],
      "metadata": {
        "id": "hK5TvNquB_c8",
        "colab": {
          "base_uri": "https://localhost:8080/"
        },
        "outputId": "590caf0c-b0f4-4048-a9dc-c4860e67c5da"
      },
      "execution_count": null,
      "outputs": [
        {
          "output_type": "stream",
          "name": "stdout",
          "text": [
            "Precision: 0.976\n",
            "F1: 0.964\n"
          ]
        }
      ]
    },
    {
      "cell_type": "code",
      "source": [
        "from sklearn.metrics import make_scorer, f1_score\n",
        "\n",
        "scorer = make_scorer(f1_score, pos_label=0)\n",
        "gs = GridSearchCV(estimator=pipe_svc,\n",
        "                  param_grid=param_grid,\n",
        "                  scoring=scorer,\n",
        "                  cv=10)"
      ],
      "metadata": {
        "id": "giy6Db64LtbI"
      },
      "execution_count": null,
      "outputs": []
    },
    {
      "cell_type": "markdown",
      "source": [
        "Plotting a receiver operating characteristic"
      ],
      "metadata": {
        "id": "rvE03zfpK7vH"
      }
    },
    {
      "cell_type": "code",
      "source": [
        "from sklearn.metrics import roc_curve, auc\n",
        "from scipy import interp\n",
        "\n",
        "pipi_lr = Pipeline([('scl', StandardScaler()),\n",
        "                    ('pca', PCA(n_components=2)),\n",
        "                    ('clf', LogisticRegression(penalty='l2',\n",
        "                                               random_state=0,\n",
        "                                               C=100.0))])\n",
        "\n",
        "X_train2 = X_train[:, [4, 14]]\n",
        "\n",
        "cv = StratifiedKFold(n_splits=3,\n",
        "                     shuffle=True,\n",
        "                     random_state=1)\n",
        "\n",
        "fig = plt.figure(figsize=(7, 5))\n",
        "mean_tpr = 0.0\n",
        "mean_fpr = np.linspace(0, 1, 100)\n",
        "all_tpr = []\n",
        "\n",
        "for i, (train, test) in enumerate(cv.split(X_train2, y_train)):\n",
        "  probas = pipe_lr.fit(X_train2[train],\n",
        "                       y_train[train]).predict_proba(X_train2[test])\n",
        "  fpr, tpr, thresholds = roc_curve(y_train[test],\n",
        "                                   probas[:, 1],\n",
        "                                   pos_label=1)\n",
        "  mean_tpr += interp(mean_fpr, fpr, tpr)\n",
        "  mean_tpr[0] = 0.0\n",
        "  roc_auc = auc(fpr, tpr)\n",
        "  plt.plot(fpr,\n",
        "           tpr,\n",
        "           lw=1,\n",
        "           label='ROC fold %d (area = %0.2f'\n",
        "                  % (i+1, roc_auc))\n",
        "\n",
        "plt.plot([0, 1],\n",
        "         [0, 1],\n",
        "         linestyle='--',\n",
        "         color=(0.6, 0.6, 0.6),\n",
        "         label='random guessing')\n",
        "\n",
        "mean_tpr /= cv.get_n_splits()\n",
        "mean_tpr[-1] = 1.0\n",
        "mean_auc = auc(mean_fpr, mean_tpr)\n",
        "\n",
        "plt.plot(mean_fpr, mean_tpr,'k--',\n",
        "         label='mean ROC (area = %0.2f)' % mean_auc, lw=2)\n",
        "\n",
        "plt.plot([0, 0, 1],\n",
        "         [0, 1, 1],\n",
        "         lw=2,\n",
        "         linestyle=':',\n",
        "         color='black',\n",
        "         label='perfect performance')\n",
        "\n",
        "plt.xlabel('false positive rate')\n",
        "plt.ylabel('true positive rate')\n",
        "plt.title('Receiver Operator Characteristic')\n",
        "plt.legend()\n",
        "plt.show()"
      ],
      "metadata": {
        "colab": {
          "base_uri": "https://localhost:8080/",
          "height": 481
        },
        "id": "DoTK7hoeFh3q",
        "outputId": "87309f54-17c6-4794-98de-c90f2fee404d"
      },
      "execution_count": null,
      "outputs": [
        {
          "output_type": "stream",
          "name": "stderr",
          "text": [
            "<ipython-input-26-d79c639c1cc9>:27: DeprecationWarning: scipy.interp is deprecated and will be removed in SciPy 2.0.0, use numpy.interp instead\n",
            "  mean_tpr += interp(mean_fpr, fpr, tpr)\n",
            "<ipython-input-26-d79c639c1cc9>:27: DeprecationWarning: scipy.interp is deprecated and will be removed in SciPy 2.0.0, use numpy.interp instead\n",
            "  mean_tpr += interp(mean_fpr, fpr, tpr)\n",
            "<ipython-input-26-d79c639c1cc9>:27: DeprecationWarning: scipy.interp is deprecated and will be removed in SciPy 2.0.0, use numpy.interp instead\n",
            "  mean_tpr += interp(mean_fpr, fpr, tpr)\n"
          ]
        },
        {
          "output_type": "display_data",
          "data": {
            "text/plain": [
              "<Figure size 504x360 with 1 Axes>"
            ],
            "image/png": "[encoded data removed]"
          },
          "metadata": {
            "needs_background": "light"
          }
        }
      ]
    },
    {
      "cell_type": "code",
      "source": [
        "pipe_lr = pipe_lr.fit(X_train2, y_train)\n",
        "y_pred2 = pipe_lr.predict(X_test[:, [4, 14]])"
      ],
      "metadata": {
        "id": "pP1CPMm71H00"
      },
      "execution_count": null,
      "outputs": []
    },
    {
      "cell_type": "code",
      "source": [
        "from sklearn.metrics import roc_auc_score\n",
        "from sklearn.metrics import accuracy_score\n",
        "\n",
        "print('ROC AUC: %.3f' % roc_auc_score(y_true=y_test,\n",
        "                                      y_score=y_pred2))\n",
        "print('Accuracy: %.3f' % accuracy_score(y_true=y_test,\n",
        "                                        y_pred=y_pred2))"
      ],
      "metadata": {
        "colab": {
          "base_uri": "https://localhost:8080/"
        },
        "id": "Sn69hlk-1bEh",
        "outputId": "f44ef210-eb17-402d-e830-600e57fd425d"
      },
      "execution_count": null,
      "outputs": [
        {
          "output_type": "stream",
          "name": "stdout",
          "text": [
            "ROC AUC: 0.662\n",
            "Accuracy: 0.711\n"
          ]
        }
      ]
    },
    {
      "cell_type": "markdown",
      "source": [
        "The Scoring metrics for multiclass classification"
      ],
      "metadata": {
        "id": "3QU_y-8m6cJO"
      }
    },
    {
      "cell_type": "code",
      "source": [
        "pre_scorer = make_scorer(score_func=precision_score,\n",
        "                         pos_label=1,\n",
        "                         greater_is_better=True,\n",
        "                         average='micro')\n",
        "pre_scorer"
      ],
      "metadata": {
        "colab": {
          "base_uri": "https://localhost:8080/"
        },
        "id": "XJTcVuDR6h88",
        "outputId": "a99cd260-abac-4c7d-f844-8cb47bd08831"
      },
      "execution_count": null,
      "outputs": [
        {
          "output_type": "execute_result",
          "data": {
            "text/plain": [
              "make_scorer(precision_score, pos_label=1, average=micro)"
            ]
          },
          "metadata": {},
          "execution_count": 33
        }
      ]
    }
  ]
}