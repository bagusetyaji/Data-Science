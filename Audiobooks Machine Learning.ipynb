{
 "cells": [
  {
   "cell_type": "code",
   "execution_count": 37,
   "id": "d1a19364",
   "metadata": {},
   "outputs": [],
   "source": [
    "import numpy as np\n",
    "import tensorflow as tf"
   ]
  },
  {
   "cell_type": "code",
   "execution_count": 38,
   "id": "b3fe64c3",
   "metadata": {},
   "outputs": [],
   "source": [
    "#Data\n",
    "npz = np.load('Audiobooks_data_train.npz')\n",
    "\n",
    "train_inputs = npz['inputs'].astype(np.float64)\n",
    "train_targets = npz['targets'].astype(np.int64)\n",
    "\n",
    "npz = np.load('Audiobooks_data_validation.npz')\n",
    "validation_inputs, validation_targets = npz['inputs'].astype(np.float64), npz['targets'].astype(np.int64)\n",
    "\n",
    "npz = np.load('Audiobooks_data_test.npz')\n",
    "test_inputs, test_targets = npz['inputs'].astype(np.float64), npz['targets'].astype(np.int64)"
   ]
  },
  {
   "cell_type": "code",
   "execution_count": 40,
   "id": "00d3f32c",
   "metadata": {},
   "outputs": [
    {
     "name": "stdout",
     "output_type": "stream",
     "text": [
      "Epoch 1/100\n",
      "36/36 - 2s - loss: 1.9091 - accuracy: 0.7488 - val_loss: 0.3771 - val_accuracy: 0.8658 - 2s/epoch - 46ms/step\n",
      "Epoch 2/100\n",
      "36/36 - 0s - loss: 0.3103 - accuracy: 0.8835 - val_loss: 0.3336 - val_accuracy: 0.8702 - 214ms/epoch - 6ms/step\n",
      "Epoch 3/100\n",
      "36/36 - 0s - loss: 0.2974 - accuracy: 0.8868 - val_loss: 0.3091 - val_accuracy: 0.8725 - 231ms/epoch - 6ms/step\n",
      "Epoch 4/100\n",
      "36/36 - 0s - loss: 0.2842 - accuracy: 0.8905 - val_loss: 0.3222 - val_accuracy: 0.8814 - 217ms/epoch - 6ms/step\n",
      "Epoch 5/100\n",
      "36/36 - 0s - loss: 0.2587 - accuracy: 0.9025 - val_loss: 0.3086 - val_accuracy: 0.8837 - 225ms/epoch - 6ms/step\n",
      "Epoch 6/100\n",
      "36/36 - 0s - loss: 0.2603 - accuracy: 0.8972 - val_loss: 0.2868 - val_accuracy: 0.8881 - 253ms/epoch - 7ms/step\n",
      "Epoch 7/100\n",
      "36/36 - 0s - loss: 0.2518 - accuracy: 0.9053 - val_loss: 0.3266 - val_accuracy: 0.8792 - 297ms/epoch - 8ms/step\n",
      "Epoch 8/100\n",
      "36/36 - 0s - loss: 0.2487 - accuracy: 0.9086 - val_loss: 0.3215 - val_accuracy: 0.8814 - 189ms/epoch - 5ms/step\n",
      "Epoch 9/100\n",
      "36/36 - 0s - loss: 0.2365 - accuracy: 0.9117 - val_loss: 0.2870 - val_accuracy: 0.8904 - 184ms/epoch - 5ms/step\n"
     ]
    },
    {
     "data": {
      "text/plain": [
       "<keras.callbacks.History at 0x1f9fffbb610>"
      ]
     },
     "execution_count": 40,
     "metadata": {},
     "output_type": "execute_result"
    }
   ],
   "source": [
    "#Model\n",
    "input_size = 10\n",
    "target_size = 2\n",
    "hidden_layer_size = 100\n",
    "\n",
    "model = tf.keras.Sequential ([\n",
    "    tf.keras.layers.Dense(hidden_layer_size, activation ='relu'),\n",
    "    tf.keras.layers.Dense(hidden_layer_size, activation ='relu'),\n",
    "    tf.keras.layers.Dense(hidden_layer_size, activation ='relu'),\n",
    "    tf.keras.layers.Dense(hidden_layer_size, activation ='relu'),\n",
    "    tf.keras.layers.Dense(hidden_layer_size, activation ='relu'),\n",
    "    tf.keras.layers.Dense(hidden_layer_size, activation ='softmax')\n",
    "])\n",
    "\n",
    "model.compile(optimizer='adam', loss='sparse_categorical_crossentropy', metrics=['accuracy'])\n",
    "\n",
    "batch_size = 100\n",
    "max_epochs = 100\n",
    "\n",
    "early_stopping = tf.keras.callbacks.EarlyStopping(patience=3)\n",
    "\n",
    "model.fit(train_inputs,\n",
    "         train_targets,\n",
    "         batch_size=batch_size,\n",
    "         epochs=max_epochs,\n",
    "         callbacks=[early_stopping],\n",
    "         validation_data=(validation_inputs, validation_targets),\n",
    "         verbose=2)"
   ]
  },
  {
   "cell_type": "code",
   "execution_count": 41,
   "id": "94c8f3bc",
   "metadata": {},
   "outputs": [
    {
     "name": "stdout",
     "output_type": "stream",
     "text": [
      "14/14 [==============================] - 0s 3ms/step - loss: 0.2834 - accuracy: 0.8996\n"
     ]
    }
   ],
   "source": [
    "test_loss, test_accuracy = model.evaluate(test_inputs, test_targets)"
   ]
  },
  {
   "cell_type": "code",
   "execution_count": 42,
   "id": "ca3fb594",
   "metadata": {},
   "outputs": [
    {
     "name": "stdout",
     "output_type": "stream",
     "text": [
      "\n",
      "Test loss: 0.28. Test accuracy: 89.96%\n"
     ]
    }
   ],
   "source": [
    "print('\\nTest loss: {0:.2f}. Test accuracy: {1:.2f}%'.format(test_loss, test_accuracy*100.))"
   ]
  }
 ],
 "metadata": {
  "kernelspec": {
   "display_name": "Python [conda env:py3-TF2.0]",
   "language": "python",
   "name": "conda-env-py3-TF2.0-py"
  },
  "language_info": {
   "codemirror_mode": {
    "name": "ipython",
    "version": 3
   },
   "file_extension": ".py",
   "mimetype": "text/x-python",
   "name": "python",
   "nbconvert_exporter": "python",
   "pygments_lexer": "ipython3",
   "version": "3.8.12"
  }
 },
 "nbformat": 4,
 "nbformat_minor": 5
}
